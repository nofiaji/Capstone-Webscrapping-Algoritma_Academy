{
 "cells": [
  {
   "cell_type": "markdown",
   "metadata": {},
   "source": [
    "# Capstone Webscrapping using BeautifulSoup\n",
    "\n",
    "This notebook contains guidances & tasks on the data processing for the application\n",
    "\n",
    "## background\n",
    "\n",
    "(Project Capstone Web-Scrapping using Beautifulsoup merupakan salah satu capstone project dari Algoritma Academy Data Analytics Specialization. Dengan mengerjakan project ini diharapkan para peserta pelatihan akan memahami lebih dalam mengenai teknik mengambil data/informasi yang bersumber dari web yang bersifat publik atau dapat diakses secara umum. Adapun deliverables yang diharapkan dari projek ini dari para peserta pelatihan adalah melakukan webscrapping secara simplel untuk mendapatkan informasi\n",
    "juga akan memanfaatkan flask dashboard sederhana untuk menampilkan hasil scrap dan visualisasinya)\n",
    "\n",
    "## Requesting the Data and Creating a BeautifulSoup\n",
    "\n",
    "Let's begin with requesting the web from the site with `get` method."
   ]
  },
  {
   "cell_type": "code",
   "execution_count": 1,
   "metadata": {
    "ExecuteTime": {
     "end_time": "2020-01-13T05:12:23.275508Z",
     "start_time": "2020-01-13T05:12:20.009898Z"
    }
   },
   "outputs": [],
   "source": [
    "import requests\n",
    "\n",
    "url_get = requests.get('https://www.exchange-rates.org/history/IDR/USD/T')"
   ]
  },
  {
   "cell_type": "markdown",
   "metadata": {},
   "source": [
    "To visualize what exactly you get from the `request.get`, we can use .content so ee what we exactly get, in here i slice it so it won't make our screen full of the html we get from the page. You can delete the slicing if you want to see what we fully get."
   ]
  },
  {
   "cell_type": "code",
   "execution_count": 2,
   "metadata": {
    "ExecuteTime": {
     "end_time": "2020-01-13T05:12:23.290648Z",
     "start_time": "2020-01-13T05:12:23.277650Z"
    }
   },
   "outputs": [
    {
     "data": {
      "text/plain": [
       "b'!DOCTYPE html>\\r\\n<!--[if lt IE 9]>\\r\\n<html class=\"no-js ie8 oldie\" lang=\"en\" xml:lang=\\'en\\'>\\r\\n<![endif]-->\\r\\n<!--[if gt IE 8]><!--><html class=\"no-js\" lang=\"en\" xml:lang=\\'en\\'><!--<![endif]-->\\r\\n<head>\\r\\n<title>Indonesian Rupiah Exchange Rate - US Dollar - Historical Exchange Rates</title>\\r\\n<meta http-equiv=\"X-UA-Compatible\" content=\"IE=edge\">\\r\\n<meta name=\"viewport\" content=\"width=device-width, initial-scale=1, maximum-scale=5\">\\r\\n<meta charset=\"utf-8\" /><meta http-equiv=\"Content-Type\" content=\"text/ht'"
      ]
     },
     "execution_count": 2,
     "metadata": {},
     "output_type": "execute_result"
    }
   ],
   "source": [
    "url_get.content[1:500]"
   ]
  },
  {
   "cell_type": "markdown",
   "metadata": {},
   "source": [
    "As we can see we get a very unstructured and complex html, which actually contains the codes needed to show the webpages on your web browser. But we as human still confused what and where we can use that piece of code, so here where we use the beautifulsoup. Beautiful soup class will result a beautifulsoup object. Beautiful Soup transforms a complex HTML document into a complex tree of Python objects. \n",
    "\n",
    "Let's make Beautiful soup object and feel free to explore the object here."
   ]
  },
  {
   "cell_type": "code",
   "execution_count": 4,
   "metadata": {
    "ExecuteTime": {
     "end_time": "2020-01-13T05:12:23.808122Z",
     "start_time": "2020-01-13T05:12:23.292610Z"
    }
   },
   "outputs": [
    {
     "name": "stdout",
     "output_type": "stream",
     "text": [
      "<class 'bs4.BeautifulSoup'>\n"
     ]
    }
   ],
   "source": [
    "from bs4 import BeautifulSoup \n",
    "\n",
    "soup = BeautifulSoup(url_get.content,\"html.parser\")\n",
    "print(type(soup))"
   ]
  },
  {
   "cell_type": "markdown",
   "metadata": {},
   "source": [
    "## Finding the right key to scrap the data & Extracting the right information"
   ]
  },
  {
   "cell_type": "markdown",
   "metadata": {},
   "source": [
    "Find the key and put the key into the `.find()` Put all the exploring the right key at this cell. (please change this markdown with your explanation)\n",
    "\n",
    "Penjelasan:\n",
    "1. untuk mengambil data/informasi supaya efesien perlu di batasi bagian spesifik seperti tabel atau yang lainnya pada laman web.\n",
    "2. fungsi yang digunakan adalah .find() dari library BeautifulSoup dengan menambahakan kata kunci yang identik dari data/informasi yang akan diambil\n",
    "3. kita juga bisa menggunakan fungsi .prettify() untuk membantu kita melihat cooding html menjadi lebih terstruktur sehingga budah di baca dan akan lebih mudah untuk menganalisa posisi data/informasi yang akan di ambil/dipindahkan ke data frame. "
   ]
  },
  {
   "cell_type": "code",
   "execution_count": 40,
   "metadata": {
    "ExecuteTime": {
     "end_time": "2020-01-13T05:12:23.878904Z",
     "start_time": "2020-01-13T05:12:23.854974Z"
    }
   },
   "outputs": [
    {
     "name": "stdout",
     "output_type": "stream",
     "text": [
      "<table class=\"table table-striped table-hover table-hover-solid-row table-simple history-data\">\n",
      " <tbody>\n",
      "  <tr>\n",
      "   <td>\n",
      "    7/6/2022\n",
      "   </td>\n",
      "   <td>\n",
      "    Wednesday\n",
      "   </td>\n",
      "   <td>\n",
      "    <a href=\"/Rate/USD/IDR/7-6-2022\">\n",
      "     14,996.82520\n",
      "    </a>\n",
      "    IDR\n",
      "   </td>\n",
      "   <td class=\"text-narrow-screen-hidden\">\n",
      "    <a href=\"/Rate/USD/IDR/7-6-2022\">\n",
      "     USD IDR rate for 7/6/2022\n",
      "    </a>\n",
      "   </td>\n",
      "  </tr>\n",
      "  <tr>\n",
      "   <td>\n",
      "    7/5/2022\n",
      "   </td>\n",
      "   <td>\n",
      "    Tuesday\n",
      "   </td>\n",
      "   <td>\n",
      "    <a href=\"/Rate/USD/IDR\n"
     ]
    }
   ],
   "source": [
    "#menampung data scrapping \n",
    "table = soup.find('table', attrs={'class':'table table-striped table-hover table-hover-solid-row table-simple history-data'})\n",
    "print(table.prettify()[0:500])"
   ]
  },
  {
   "cell_type": "code",
   "execution_count": 42,
   "metadata": {},
   "outputs": [
    {
     "data": {
      "text/plain": [
       "'1/7/2022Friday14,318.75000 IDRUSD IDR rate for 1/7/2022'"
      ]
     },
     "execution_count": 42,
     "metadata": {},
     "output_type": "execute_result"
    }
   ],
   "source": [
    "# pastikan data/informasi hasil scrapping sudah sesuai dengan data/informasi di web\n",
    "table.find_all('tr')[1].text\n",
    "table.find_all('tr')[128].text"
   ]
  },
  {
   "cell_type": "markdown",
   "metadata": {},
   "source": [
    "Finding row length."
   ]
  },
  {
   "cell_type": "code",
   "execution_count": 7,
   "metadata": {},
   "outputs": [
    {
     "data": {
      "text/plain": [
       "129"
      ]
     },
     "execution_count": 7,
     "metadata": {},
     "output_type": "execute_result"
    }
   ],
   "source": [
    "# menghitung jumlah baris data\n",
    "baris = table.find_all('tr')\n",
    "row_length = len(baris)\n",
    "row_length"
   ]
  },
  {
   "cell_type": "markdown",
   "metadata": {},
   "source": [
    "Do the scrapping process here (please change this markdown with your explanation)\n",
    "\n",
    "Penjelasan:\n",
    "1. Sebelum melakukan scrapping perlu kita pastikan posisi data yang akan diambil karena bisa saja berada pada sebuah tabel (terpisah kolom) sehingga datanya sudah terpisah atau dijadikan satu kolom seperti data di atas.\n",
    "2. perlu dipasikan juga posisi data/informasi terakhir hasil scrapping sudah sesuai dengan data/informasi yang ada di web."
   ]
  },
  {
   "cell_type": "code",
   "execution_count": 43,
   "metadata": {
    "ExecuteTime": {
     "end_time": "2020-01-13T05:12:24.008256Z",
     "start_time": "2020-01-13T05:12:23.980358Z"
    }
   },
   "outputs": [
    {
     "data": {
      "text/plain": [
       "[('7/6/2022', '14,996.82520 IDR'),\n",
       " ('7/5/2022', '15,014.65000 IDR'),\n",
       " ('7/4/2022', '14,994.55000 IDR'),\n",
       " ('7/1/2022', '14,975.15000 IDR'),\n",
       " ('6/30/2022', '14,928.80000 IDR'),\n",
       " ('6/29/2022', '14,868.90000 IDR'),\n",
       " ('6/28/2022', '14,852.35000 IDR'),\n",
       " ('6/27/2022', '14,807.70000 IDR'),\n",
       " ('6/24/2022', '14,829.50000 IDR'),\n",
       " ('6/23/2022', '14,848.80000 IDR'),\n",
       " ('6/22/2022', '14,833.90000 IDR'),\n",
       " ('6/21/2022', '14,833.60000 IDR'),\n",
       " ('6/20/2022', '14,827.75000 IDR'),\n",
       " ('6/17/2022', '14,838.85000 IDR'),\n",
       " ('6/16/2022', '14,809.20000 IDR'),\n",
       " ('6/15/2022', '14,695.10000 IDR'),\n",
       " ('6/14/2022', '14,764.20000 IDR'),\n",
       " ('6/13/2022', '14,782.80000 IDR'),\n",
       " ('6/10/2022', '14,614.95000 IDR'),\n",
       " ('6/9/2022', '14,611.85000 IDR'),\n",
       " ('6/8/2022', '14,513.20000 IDR'),\n",
       " ('6/7/2022', '14,465.30000 IDR'),\n",
       " ('6/6/2022', '14,437.70000 IDR'),\n",
       " ('6/3/2022', '14,433.50000 IDR'),\n",
       " ('6/2/2022', '14,435.00000 IDR'),\n",
       " ('6/1/2022', '14,555.60000 IDR'),\n",
       " ('5/31/2022', '14,580.63428 IDR'),\n",
       " ('5/30/2022', '14,538.55000 IDR'),\n",
       " ('5/27/2022', '14,539.40000 IDR'),\n",
       " ('5/26/2022', '14,610.10000 IDR'),\n",
       " ('5/25/2022', '14,632.75000 IDR'),\n",
       " ('5/24/2022', '14,635.75000 IDR'),\n",
       " ('5/23/2022', '14,625.70000 IDR'),\n",
       " ('5/20/2022', '14,672.44395 IDR'),\n",
       " ('5/19/2022', '14,632.60000 IDR'),\n",
       " ('5/18/2022', '14,740.05000 IDR'),\n",
       " ('5/17/2022', '14,630.65000 IDR'),\n",
       " ('5/16/2022', '14,647.20000 IDR'),\n",
       " ('5/13/2022', '14,665.95000 IDR'),\n",
       " ('5/12/2022', '14,667.00000 IDR'),\n",
       " ('5/11/2022', '14,545.90000 IDR'),\n",
       " ('5/10/2022', '14,526.40000 IDR'),\n",
       " ('5/9/2022', '14,552.25000 IDR'),\n",
       " ('5/6/2022', '14,498.65000 IDR'),\n",
       " ('5/5/2022', '14,458.75000 IDR'),\n",
       " ('5/4/2022', '14,430.00000 IDR'),\n",
       " ('5/3/2022', '14,455.80000 IDR'),\n",
       " ('5/2/2022', '14,526.60000 IDR'),\n",
       " ('4/29/2022', '14,525.10000 IDR'),\n",
       " ('4/28/2022', '14,516.00000 IDR'),\n",
       " ('4/27/2022', '14,447.55000 IDR'),\n",
       " ('4/26/2022', '14,432.50000 IDR'),\n",
       " ('4/25/2022', '14,426.50000 IDR'),\n",
       " ('4/22/2022', '14,470.00000 IDR'),\n",
       " ('4/21/2022', '14,386.00000 IDR'),\n",
       " ('4/20/2022', '14,364.00000 IDR'),\n",
       " ('4/19/2022', '14,375.50000 IDR'),\n",
       " ('4/18/2022', '14,353.85000 IDR'),\n",
       " ('4/15/2022', '14,366.76704 IDR'),\n",
       " ('4/14/2022', '14,383.95000 IDR'),\n",
       " ('4/13/2022', '14,372.00000 IDR'),\n",
       " ('4/12/2022', '14,376.50000 IDR'),\n",
       " ('4/11/2022', '14,373.00000 IDR'),\n",
       " ('4/8/2022', '14,370.65000 IDR'),\n",
       " ('4/7/2022', '14,374.45000 IDR'),\n",
       " ('4/6/2022', '14,380.95000 IDR'),\n",
       " ('4/5/2022', '14,368.50000 IDR'),\n",
       " ('4/4/2022', '14,328.90000 IDR'),\n",
       " ('4/1/2022', '14,371.45000 IDR'),\n",
       " ('3/31/2022', '14,348.05000 IDR'),\n",
       " ('3/30/2022', '14,330.50000 IDR'),\n",
       " ('3/29/2022', '14,347.50000 IDR'),\n",
       " ('3/28/2022', '14,363.90000 IDR'),\n",
       " ('3/25/2022', '14,357.40000 IDR'),\n",
       " ('3/24/2022', '14,362.10000 IDR'),\n",
       " ('3/23/2022', '14,381.05000 IDR'),\n",
       " ('3/22/2022', '14,350.50000 IDR'),\n",
       " ('3/21/2022', '14,341.95000 IDR'),\n",
       " ('3/18/2022', '14,342.35000 IDR'),\n",
       " ('3/17/2022', '14,330.50000 IDR'),\n",
       " ('3/16/2022', '14,267.50000 IDR'),\n",
       " ('3/15/2022', '14,312.00000 IDR'),\n",
       " ('3/14/2022', '14,351.50000 IDR'),\n",
       " ('3/11/2022', '14,327.00000 IDR'),\n",
       " ('3/10/2022', '14,280.00000 IDR'),\n",
       " ('3/9/2022', '14,257.95000 IDR'),\n",
       " ('3/8/2022', '14,363.70000 IDR'),\n",
       " ('3/7/2022', '14,407.40000 IDR'),\n",
       " ('3/4/2022', '14,383.20000 IDR'),\n",
       " ('3/3/2022', '14,359.40000 IDR'),\n",
       " ('3/2/2022', '14,391.50000 IDR'),\n",
       " ('3/1/2022', '14,429.84376 IDR'),\n",
       " ('2/28/2022', '14,367.90938 IDR'),\n",
       " ('2/25/2022', '14,334.25000 IDR'),\n",
       " ('2/24/2022', '14,421.45000 IDR'),\n",
       " ('2/23/2022', '14,351.75000 IDR'),\n",
       " ('2/22/2022', '14,380.20000 IDR'),\n",
       " ('2/21/2022', '14,354.80000 IDR'),\n",
       " ('2/18/2022', '14,366.90000 IDR'),\n",
       " ('2/17/2022', '14,357.40000 IDR'),\n",
       " ('2/16/2022', '14,274.45000 IDR'),\n",
       " ('2/15/2022', '14,265.45000 IDR'),\n",
       " ('2/14/2022', '14,303.45000 IDR'),\n",
       " ('2/11/2022', '14,344.75000 IDR'),\n",
       " ('2/10/2022', '14,357.00000 IDR'),\n",
       " ('2/9/2022', '14,334.30000 IDR'),\n",
       " ('2/8/2022', '14,386.75000 IDR'),\n",
       " ('2/7/2022', '14,394.90000 IDR'),\n",
       " ('2/4/2022', '14,400.70000 IDR'),\n",
       " ('2/3/2022', '14,387.00000 IDR'),\n",
       " ('2/2/2022', '14,355.35000 IDR'),\n",
       " ('2/1/2022', '14,328.30000 IDR'),\n",
       " ('1/31/2022', '14,339.40000 IDR'),\n",
       " ('1/28/2022', '14,383.40000 IDR'),\n",
       " ('1/27/2022', '14,395.00000 IDR'),\n",
       " ('1/26/2022', '14,366.45000 IDR'),\n",
       " ('1/25/2022', '14,330.55000 IDR'),\n",
       " ('1/24/2022', '14,350.70000 IDR'),\n",
       " ('1/21/2022', '14,329.75000 IDR'),\n",
       " ('1/20/2022', '14,327.60000 IDR'),\n",
       " ('1/19/2022', '14,362.85000 IDR'),\n",
       " ('1/18/2022', '14,358.70000 IDR'),\n",
       " ('1/17/2022', '14,331.25000 IDR'),\n",
       " ('1/14/2022', '14,314.55000 IDR'),\n",
       " ('1/13/2022', '14,309.00000 IDR'),\n",
       " ('1/12/2022', '14,298.95000 IDR'),\n",
       " ('1/11/2022', '14,284.46501 IDR'),\n",
       " ('1/10/2022', '14,290.15000 IDR'),\n",
       " ('1/7/2022', '14,318.75000 IDR')]"
      ]
     },
     "execution_count": 43,
     "metadata": {},
     "output_type": "execute_result"
    }
   ],
   "source": [
    "temp = [] #initiating a tuple\n",
    "\n",
    "for i in range(0, row_length):\n",
    "\n",
    "    #scrapping process\n",
    "    #get tanggal \n",
    "    Tanggal = table.find_all('td')[(i*4)+0].text\n",
    "\n",
    "    #get hari ## informasi ini tidak perlu diambil, kedepan jika dibutuhkan bisa diekstrak dari tanggal\n",
    "    #hari = table.find_all('td')[(i*4)+1].text\n",
    "    #hari = hari.strip() #to remove excess white space\n",
    "\n",
    "    #get nilai kurs\n",
    "    Kurs = table.find_all('td')[(i*4)+2].text\n",
    "    Kurs = Kurs.strip() #to remove excess white space\n",
    "    \n",
    "    #get keterangan ## informasi ini tidak perlu diambil karena informasinya duplicate dengan informasi tanggal\n",
    "    #kurs = table.find_all('td')[(i*4)+2].text\n",
    "    #kurs = kurs.strip() #to remove excess white space\n",
    "\n",
    "    temp.append((Tanggal,Kurs)) \n",
    "temp\n"
   ]
  },
  {
   "cell_type": "code",
   "execution_count": 44,
   "metadata": {},
   "outputs": [
    {
     "data": {
      "text/plain": [
       "[('1/7/2022', '14,318.75000 IDR'),\n",
       " ('1/10/2022', '14,290.15000 IDR'),\n",
       " ('1/11/2022', '14,284.46501 IDR'),\n",
       " ('1/12/2022', '14,298.95000 IDR'),\n",
       " ('1/13/2022', '14,309.00000 IDR'),\n",
       " ('1/14/2022', '14,314.55000 IDR'),\n",
       " ('1/17/2022', '14,331.25000 IDR'),\n",
       " ('1/18/2022', '14,358.70000 IDR'),\n",
       " ('1/19/2022', '14,362.85000 IDR'),\n",
       " ('1/20/2022', '14,327.60000 IDR'),\n",
       " ('1/21/2022', '14,329.75000 IDR'),\n",
       " ('1/24/2022', '14,350.70000 IDR'),\n",
       " ('1/25/2022', '14,330.55000 IDR'),\n",
       " ('1/26/2022', '14,366.45000 IDR'),\n",
       " ('1/27/2022', '14,395.00000 IDR'),\n",
       " ('1/28/2022', '14,383.40000 IDR'),\n",
       " ('1/31/2022', '14,339.40000 IDR'),\n",
       " ('2/1/2022', '14,328.30000 IDR'),\n",
       " ('2/2/2022', '14,355.35000 IDR'),\n",
       " ('2/3/2022', '14,387.00000 IDR'),\n",
       " ('2/4/2022', '14,400.70000 IDR'),\n",
       " ('2/7/2022', '14,394.90000 IDR'),\n",
       " ('2/8/2022', '14,386.75000 IDR'),\n",
       " ('2/9/2022', '14,334.30000 IDR'),\n",
       " ('2/10/2022', '14,357.00000 IDR'),\n",
       " ('2/11/2022', '14,344.75000 IDR'),\n",
       " ('2/14/2022', '14,303.45000 IDR'),\n",
       " ('2/15/2022', '14,265.45000 IDR'),\n",
       " ('2/16/2022', '14,274.45000 IDR'),\n",
       " ('2/17/2022', '14,357.40000 IDR'),\n",
       " ('2/18/2022', '14,366.90000 IDR'),\n",
       " ('2/21/2022', '14,354.80000 IDR'),\n",
       " ('2/22/2022', '14,380.20000 IDR'),\n",
       " ('2/23/2022', '14,351.75000 IDR'),\n",
       " ('2/24/2022', '14,421.45000 IDR'),\n",
       " ('2/25/2022', '14,334.25000 IDR'),\n",
       " ('2/28/2022', '14,367.90938 IDR'),\n",
       " ('3/1/2022', '14,429.84376 IDR'),\n",
       " ('3/2/2022', '14,391.50000 IDR'),\n",
       " ('3/3/2022', '14,359.40000 IDR'),\n",
       " ('3/4/2022', '14,383.20000 IDR'),\n",
       " ('3/7/2022', '14,407.40000 IDR'),\n",
       " ('3/8/2022', '14,363.70000 IDR'),\n",
       " ('3/9/2022', '14,257.95000 IDR'),\n",
       " ('3/10/2022', '14,280.00000 IDR'),\n",
       " ('3/11/2022', '14,327.00000 IDR'),\n",
       " ('3/14/2022', '14,351.50000 IDR'),\n",
       " ('3/15/2022', '14,312.00000 IDR'),\n",
       " ('3/16/2022', '14,267.50000 IDR'),\n",
       " ('3/17/2022', '14,330.50000 IDR'),\n",
       " ('3/18/2022', '14,342.35000 IDR'),\n",
       " ('3/21/2022', '14,341.95000 IDR'),\n",
       " ('3/22/2022', '14,350.50000 IDR'),\n",
       " ('3/23/2022', '14,381.05000 IDR'),\n",
       " ('3/24/2022', '14,362.10000 IDR'),\n",
       " ('3/25/2022', '14,357.40000 IDR'),\n",
       " ('3/28/2022', '14,363.90000 IDR'),\n",
       " ('3/29/2022', '14,347.50000 IDR'),\n",
       " ('3/30/2022', '14,330.50000 IDR'),\n",
       " ('3/31/2022', '14,348.05000 IDR'),\n",
       " ('4/1/2022', '14,371.45000 IDR'),\n",
       " ('4/4/2022', '14,328.90000 IDR'),\n",
       " ('4/5/2022', '14,368.50000 IDR'),\n",
       " ('4/6/2022', '14,380.95000 IDR'),\n",
       " ('4/7/2022', '14,374.45000 IDR'),\n",
       " ('4/8/2022', '14,370.65000 IDR'),\n",
       " ('4/11/2022', '14,373.00000 IDR'),\n",
       " ('4/12/2022', '14,376.50000 IDR'),\n",
       " ('4/13/2022', '14,372.00000 IDR'),\n",
       " ('4/14/2022', '14,383.95000 IDR'),\n",
       " ('4/15/2022', '14,366.76704 IDR'),\n",
       " ('4/18/2022', '14,353.85000 IDR'),\n",
       " ('4/19/2022', '14,375.50000 IDR'),\n",
       " ('4/20/2022', '14,364.00000 IDR'),\n",
       " ('4/21/2022', '14,386.00000 IDR'),\n",
       " ('4/22/2022', '14,470.00000 IDR'),\n",
       " ('4/25/2022', '14,426.50000 IDR'),\n",
       " ('4/26/2022', '14,432.50000 IDR'),\n",
       " ('4/27/2022', '14,447.55000 IDR'),\n",
       " ('4/28/2022', '14,516.00000 IDR'),\n",
       " ('4/29/2022', '14,525.10000 IDR'),\n",
       " ('5/2/2022', '14,526.60000 IDR'),\n",
       " ('5/3/2022', '14,455.80000 IDR'),\n",
       " ('5/4/2022', '14,430.00000 IDR'),\n",
       " ('5/5/2022', '14,458.75000 IDR'),\n",
       " ('5/6/2022', '14,498.65000 IDR'),\n",
       " ('5/9/2022', '14,552.25000 IDR'),\n",
       " ('5/10/2022', '14,526.40000 IDR'),\n",
       " ('5/11/2022', '14,545.90000 IDR'),\n",
       " ('5/12/2022', '14,667.00000 IDR'),\n",
       " ('5/13/2022', '14,665.95000 IDR'),\n",
       " ('5/16/2022', '14,647.20000 IDR'),\n",
       " ('5/17/2022', '14,630.65000 IDR'),\n",
       " ('5/18/2022', '14,740.05000 IDR'),\n",
       " ('5/19/2022', '14,632.60000 IDR'),\n",
       " ('5/20/2022', '14,672.44395 IDR'),\n",
       " ('5/23/2022', '14,625.70000 IDR'),\n",
       " ('5/24/2022', '14,635.75000 IDR'),\n",
       " ('5/25/2022', '14,632.75000 IDR'),\n",
       " ('5/26/2022', '14,610.10000 IDR'),\n",
       " ('5/27/2022', '14,539.40000 IDR'),\n",
       " ('5/30/2022', '14,538.55000 IDR'),\n",
       " ('5/31/2022', '14,580.63428 IDR'),\n",
       " ('6/1/2022', '14,555.60000 IDR'),\n",
       " ('6/2/2022', '14,435.00000 IDR'),\n",
       " ('6/3/2022', '14,433.50000 IDR'),\n",
       " ('6/6/2022', '14,437.70000 IDR'),\n",
       " ('6/7/2022', '14,465.30000 IDR'),\n",
       " ('6/8/2022', '14,513.20000 IDR'),\n",
       " ('6/9/2022', '14,611.85000 IDR'),\n",
       " ('6/10/2022', '14,614.95000 IDR'),\n",
       " ('6/13/2022', '14,782.80000 IDR'),\n",
       " ('6/14/2022', '14,764.20000 IDR'),\n",
       " ('6/15/2022', '14,695.10000 IDR'),\n",
       " ('6/16/2022', '14,809.20000 IDR'),\n",
       " ('6/17/2022', '14,838.85000 IDR'),\n",
       " ('6/20/2022', '14,827.75000 IDR'),\n",
       " ('6/21/2022', '14,833.60000 IDR'),\n",
       " ('6/22/2022', '14,833.90000 IDR'),\n",
       " ('6/23/2022', '14,848.80000 IDR'),\n",
       " ('6/24/2022', '14,829.50000 IDR'),\n",
       " ('6/27/2022', '14,807.70000 IDR'),\n",
       " ('6/28/2022', '14,852.35000 IDR'),\n",
       " ('6/29/2022', '14,868.90000 IDR'),\n",
       " ('6/30/2022', '14,928.80000 IDR'),\n",
       " ('7/1/2022', '14,975.15000 IDR'),\n",
       " ('7/4/2022', '14,994.55000 IDR'),\n",
       " ('7/5/2022', '15,014.65000 IDR'),\n",
       " ('7/6/2022', '14,996.82520 IDR')]"
      ]
     },
     "execution_count": 44,
     "metadata": {},
     "output_type": "execute_result"
    }
   ],
   "source": [
    "#membalik urutan data\n",
    "temp = temp[::-1]\n",
    "temp"
   ]
  },
  {
   "cell_type": "markdown",
   "metadata": {},
   "source": [
    "## Creating data frame & Data wrangling"
   ]
  },
  {
   "cell_type": "markdown",
   "metadata": {},
   "source": [
    "Put the array into dataframe"
   ]
  },
  {
   "cell_type": "code",
   "execution_count": 45,
   "metadata": {
    "ExecuteTime": {
     "end_time": "2020-01-13T05:12:41.517372Z",
     "start_time": "2020-01-13T05:12:29.130015Z"
    }
   },
   "outputs": [
    {
     "data": {
      "text/html": [
       "<div>\n",
       "<style scoped>\n",
       "    .dataframe tbody tr th:only-of-type {\n",
       "        vertical-align: middle;\n",
       "    }\n",
       "\n",
       "    .dataframe tbody tr th {\n",
       "        vertical-align: top;\n",
       "    }\n",
       "\n",
       "    .dataframe thead th {\n",
       "        text-align: right;\n",
       "    }\n",
       "</style>\n",
       "<table border=\"1\" class=\"dataframe\">\n",
       "  <thead>\n",
       "    <tr style=\"text-align: right;\">\n",
       "      <th></th>\n",
       "      <th>tanggal</th>\n",
       "      <th>kurs</th>\n",
       "    </tr>\n",
       "  </thead>\n",
       "  <tbody>\n",
       "    <tr>\n",
       "      <th>0</th>\n",
       "      <td>1/7/2022</td>\n",
       "      <td>14,318.75000 IDR</td>\n",
       "    </tr>\n",
       "    <tr>\n",
       "      <th>1</th>\n",
       "      <td>1/10/2022</td>\n",
       "      <td>14,290.15000 IDR</td>\n",
       "    </tr>\n",
       "    <tr>\n",
       "      <th>2</th>\n",
       "      <td>1/11/2022</td>\n",
       "      <td>14,284.46501 IDR</td>\n",
       "    </tr>\n",
       "    <tr>\n",
       "      <th>3</th>\n",
       "      <td>1/12/2022</td>\n",
       "      <td>14,298.95000 IDR</td>\n",
       "    </tr>\n",
       "    <tr>\n",
       "      <th>4</th>\n",
       "      <td>1/13/2022</td>\n",
       "      <td>14,309.00000 IDR</td>\n",
       "    </tr>\n",
       "    <tr>\n",
       "      <th>5</th>\n",
       "      <td>1/14/2022</td>\n",
       "      <td>14,314.55000 IDR</td>\n",
       "    </tr>\n",
       "    <tr>\n",
       "      <th>6</th>\n",
       "      <td>1/17/2022</td>\n",
       "      <td>14,331.25000 IDR</td>\n",
       "    </tr>\n",
       "    <tr>\n",
       "      <th>7</th>\n",
       "      <td>1/18/2022</td>\n",
       "      <td>14,358.70000 IDR</td>\n",
       "    </tr>\n",
       "    <tr>\n",
       "      <th>8</th>\n",
       "      <td>1/19/2022</td>\n",
       "      <td>14,362.85000 IDR</td>\n",
       "    </tr>\n",
       "    <tr>\n",
       "      <th>9</th>\n",
       "      <td>1/20/2022</td>\n",
       "      <td>14,327.60000 IDR</td>\n",
       "    </tr>\n",
       "  </tbody>\n",
       "</table>\n",
       "</div>"
      ],
      "text/plain": [
       "     tanggal              kurs\n",
       "0   1/7/2022  14,318.75000 IDR\n",
       "1  1/10/2022  14,290.15000 IDR\n",
       "2  1/11/2022  14,284.46501 IDR\n",
       "3  1/12/2022  14,298.95000 IDR\n",
       "4  1/13/2022  14,309.00000 IDR\n",
       "5  1/14/2022  14,314.55000 IDR\n",
       "6  1/17/2022  14,331.25000 IDR\n",
       "7  1/18/2022  14,358.70000 IDR\n",
       "8  1/19/2022  14,362.85000 IDR\n",
       "9  1/20/2022  14,327.60000 IDR"
      ]
     },
     "execution_count": 45,
     "metadata": {},
     "output_type": "execute_result"
    }
   ],
   "source": [
    "import pandas as pd\n",
    "\n",
    "df = pd.DataFrame(temp, columns = ('Tanggal','Kurs'))\n",
    "df.head(10)"
   ]
  },
  {
   "cell_type": "code",
   "execution_count": 46,
   "metadata": {},
   "outputs": [
    {
     "data": {
      "text/plain": [
       "tanggal    object\n",
       "kurs       object\n",
       "dtype: object"
      ]
     },
     "execution_count": 46,
     "metadata": {},
     "output_type": "execute_result"
    }
   ],
   "source": [
    "df.dtypes"
   ]
  },
  {
   "cell_type": "code",
   "execution_count": 52,
   "metadata": {
    "ExecuteTime": {
     "end_time": "2020-01-13T05:12:59.165559Z",
     "start_time": "2020-01-13T05:12:58.910012Z"
    }
   },
   "outputs": [
    {
     "data": {
      "text/plain": [
       "kurs    float64\n",
       "dtype: object"
      ]
     },
     "execution_count": 52,
     "metadata": {},
     "output_type": "execute_result"
    }
   ],
   "source": [
    "#menyesuaikan kondisi data termasuk type datanya \n",
    "df['Kurs'] = df['Kurs'].str.replace(\" IDR\",\"\")\n",
    "df['Kurs'] = df['Kurs'].str.replace(\",\",\"\")\n",
    "df['Kurs'] = df['Kurs'].astype('float64')\n",
    "df['Tanggal'] = df['Tanggal'].astype('datetime64')\n",
    "\n",
    "df.dtypes\n"
   ]
  },
  {
   "cell_type": "markdown",
   "metadata": {},
   "source": [
    "Do the data cleaning here (please change this markdown with your explanation of what you do for data wrangling)\n",
    "\n",
    "Penjelasan: \n",
    "1. Setelah data dipindahkan ke data frame, perlu diperhatikan type data dan kondisi data sehingga perlu disesuaikan untuk keperluan analisa dan proses selanjutnya.\n",
    "2. Yang perlu disesuaikan adalah data kurs, masih ada tanda koma (,) dan karakter IDR\n",
    "3. Tanda koma (,) dan karakter IDR perlu dihilangkan, tapi perlu diperhatikan terkait spasi pada awal karakter IDR, harus dihilangkan juga.\n",
    "4. Sedangkan untuk type data juga harus disesuaikan, untuk tanggal menjadi datetime64 dan kurs menjadi float64 dari sebelumnya adalah type object.\n",
    "5. Selanjutnya untuk memudahkan membuat grafik, tanggal dijadikan index data frame"
   ]
  },
  {
   "cell_type": "code",
   "execution_count": 48,
   "metadata": {},
   "outputs": [
    {
     "data": {
      "text/html": [
       "<div>\n",
       "<style scoped>\n",
       "    .dataframe tbody tr th:only-of-type {\n",
       "        vertical-align: middle;\n",
       "    }\n",
       "\n",
       "    .dataframe tbody tr th {\n",
       "        vertical-align: top;\n",
       "    }\n",
       "\n",
       "    .dataframe thead th {\n",
       "        text-align: right;\n",
       "    }\n",
       "</style>\n",
       "<table border=\"1\" class=\"dataframe\">\n",
       "  <thead>\n",
       "    <tr style=\"text-align: right;\">\n",
       "      <th></th>\n",
       "      <th>kurs</th>\n",
       "    </tr>\n",
       "    <tr>\n",
       "      <th>tanggal</th>\n",
       "      <th></th>\n",
       "    </tr>\n",
       "  </thead>\n",
       "  <tbody>\n",
       "    <tr>\n",
       "      <th>2022-01-07</th>\n",
       "      <td>14318.75000</td>\n",
       "    </tr>\n",
       "    <tr>\n",
       "      <th>2022-01-10</th>\n",
       "      <td>14290.15000</td>\n",
       "    </tr>\n",
       "    <tr>\n",
       "      <th>2022-01-11</th>\n",
       "      <td>14284.46501</td>\n",
       "    </tr>\n",
       "    <tr>\n",
       "      <th>2022-01-12</th>\n",
       "      <td>14298.95000</td>\n",
       "    </tr>\n",
       "    <tr>\n",
       "      <th>2022-01-13</th>\n",
       "      <td>14309.00000</td>\n",
       "    </tr>\n",
       "  </tbody>\n",
       "</table>\n",
       "</div>"
      ],
      "text/plain": [
       "                   kurs\n",
       "tanggal                \n",
       "2022-01-07  14318.75000\n",
       "2022-01-10  14290.15000\n",
       "2022-01-11  14284.46501\n",
       "2022-01-12  14298.95000\n",
       "2022-01-13  14309.00000"
      ]
     },
     "execution_count": 48,
     "metadata": {},
     "output_type": "execute_result"
    }
   ],
   "source": [
    "#set tanggal menjadi index\n",
    "df = df.set_index('Tanggal')\n",
    "df.head()"
   ]
  },
  {
   "cell_type": "code",
   "execution_count": 49,
   "metadata": {},
   "outputs": [
    {
     "data": {
      "text/html": [
       "<div>\n",
       "<style scoped>\n",
       "    .dataframe tbody tr th:only-of-type {\n",
       "        vertical-align: middle;\n",
       "    }\n",
       "\n",
       "    .dataframe tbody tr th {\n",
       "        vertical-align: top;\n",
       "    }\n",
       "\n",
       "    .dataframe thead th {\n",
       "        text-align: right;\n",
       "    }\n",
       "</style>\n",
       "<table border=\"1\" class=\"dataframe\">\n",
       "  <thead>\n",
       "    <tr style=\"text-align: right;\">\n",
       "      <th></th>\n",
       "      <th>kurs</th>\n",
       "    </tr>\n",
       "    <tr>\n",
       "      <th>tanggal</th>\n",
       "      <th></th>\n",
       "    </tr>\n",
       "  </thead>\n",
       "  <tbody>\n",
       "    <tr>\n",
       "      <th>2022-06-30</th>\n",
       "      <td>14928.8000</td>\n",
       "    </tr>\n",
       "    <tr>\n",
       "      <th>2022-07-01</th>\n",
       "      <td>14975.1500</td>\n",
       "    </tr>\n",
       "    <tr>\n",
       "      <th>2022-07-04</th>\n",
       "      <td>14994.5500</td>\n",
       "    </tr>\n",
       "    <tr>\n",
       "      <th>2022-07-05</th>\n",
       "      <td>15014.6500</td>\n",
       "    </tr>\n",
       "    <tr>\n",
       "      <th>2022-07-06</th>\n",
       "      <td>14996.8252</td>\n",
       "    </tr>\n",
       "  </tbody>\n",
       "</table>\n",
       "</div>"
      ],
      "text/plain": [
       "                  kurs\n",
       "tanggal               \n",
       "2022-06-30  14928.8000\n",
       "2022-07-01  14975.1500\n",
       "2022-07-04  14994.5500\n",
       "2022-07-05  15014.6500\n",
       "2022-07-06  14996.8252"
      ]
     },
     "execution_count": 49,
     "metadata": {},
     "output_type": "execute_result"
    }
   ],
   "source": [
    "df.tail()"
   ]
  },
  {
   "cell_type": "markdown",
   "metadata": {},
   "source": [
    "Data visualisation (please change this markdown with your explanation of what you do for data wrangling)\n",
    "\n",
    "Penjelasan:\n",
    "1. Pemilihan chart mempertimbangkan karakteristik datanya sehingga akan lebih untuk di baca/analisis dalah hal ini adalah bentuk line\n",
    "2. Lakukan pengecekan paling tidak dengan membandingkan data awal dan data akhir, pastikan sudah sesuai. \n",
    "3. Tambahkan keterangan untuk memperjelas data/informasi yang akan disajikan, misal judul, label dll."
   ]
  },
  {
   "cell_type": "code",
   "execution_count": 57,
   "metadata": {},
   "outputs": [
    {
     "data": {
      "text/plain": [
       "<AxesSubplot:title={'center':'Data Kurs IDR Terhadap USD (1/10/2022 s.d. 7/7/2022)'}, xlabel='Bulan', ylabel='IDR'>"
      ]
     },
     "execution_count": 57,
     "metadata": {},
     "output_type": "execute_result"
    },
    {
     "data": {
      "image/png": "[encoded data removed]",
      "text/plain": [
       "<Figure size 432x288 with 1 Axes>"
      ]
     },
     "metadata": {
      "needs_background": "light"
     },
     "output_type": "display_data"
    }
   ],
   "source": [
    "df.plot(title ='Data Kurs IDR Terhadap USD (1/10/2022 s.d. 7/7/2022)', ylabel='IDR', xlabel='Bulan')"
   ]
  },
  {
   "cell_type": "markdown",
   "metadata": {},
   "source": [
    "### Implementing your webscrapping to the flask dashboard\n",
    "\n",
    "- Copy paste all of your web scrapping process to the desired position on the `app.py`\n",
    "- Changing the title of the dasboard at `index.html`"
   ]
  },
  {
   "cell_type": "markdown",
   "metadata": {},
   "source": [
    "## Finishing This Notebook with Your Analysis and Conclusion\n",
    "\n",
    "First you can do start with making the data visualisation. "
   ]
  },
  {
   "cell_type": "code",
   "execution_count": 59,
   "metadata": {
    "ExecuteTime": {
     "end_time": "2020-01-13T05:20:56.208237Z",
     "start_time": "2020-01-13T05:20:56.076043Z"
    }
   },
   "outputs": [
    {
     "data": {
      "text/plain": [
       "<AxesSubplot:title={'center':'Data Kurs IDR Terhadap USD (1/10/2022 s.d. 7/7/2022)'}, xlabel='Bulan', ylabel='IDR'>"
      ]
     },
     "execution_count": 59,
     "metadata": {},
     "output_type": "execute_result"
    },
    {
     "data": {
      "image/png": "[encoded data removed]",
      "text/plain": [
       "<Figure size 432x288 with 1 Axes>"
      ]
     },
     "metadata": {
      "needs_background": "light"
     },
     "output_type": "display_data"
    }
   ],
   "source": [
    "df.plot(title ='Data Kurs IDR Terhadap USD (1/10/2022 s.d. 7/7/2022)', ylabel='IDR', xlabel='Bulan')"
   ]
  },
  {
   "cell_type": "markdown",
   "metadata": {},
   "source": [
    "\n",
    "(Put your analysis and conclusion here.)\n",
    "Penjelasan:\n",
    "1. Terjadi pelemahan nilai kurs rupiah (IDR) terhadap dollar (USD) pada 6 bulan terakhir.\n",
    "2. Walapun sempat menguat pada periode bulan Mei sampai dengan Juni, tapi pada akhirnya di Juli nilai kurs rupiah terhadap dollar kembali melemah cukup tajam dan hampir menyentuh angka 15 ribu."
   ]
  },
  {
   "cell_type": "markdown",
   "metadata": {},
   "source": [
    "### Extra Challange\n",
    "\n",
    "This will be not included to the scoring. \n",
    "\n",
    "- You can create additional analysis from the data.\n",
    "- Implement it to the dashboard with at `app.py` dan `index.html`."
   ]
  }
 ],
 "metadata": {
  "kernelspec": {
   "display_name": "Python 3.9.12 ('base')",
   "language": "python",
   "name": "python3"
  },
  "language_info": {
   "codemirror_mode": {
    "name": "ipython",
    "version": 3
   },
   "file_extension": ".py",
   "mimetype": "text/x-python",
   "name": "python",
   "nbconvert_exporter": "python",
   "pygments_lexer": "ipython3",
   "version": "3.9.12"
  },
  "vscode": {
   "interpreter": {
    "hash": "0baa3b0e6cd4872f49b5dbc6c4d4ee8e36fdb835694bf161e387e7ba558d28ab"
   }
  }
 },
 "nbformat": 4,
 "nbformat_minor": 2
}
